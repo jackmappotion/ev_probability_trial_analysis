{
 "cells": [
  {
   "cell_type": "code",
   "execution_count": 1,
   "metadata": {},
   "outputs": [],
   "source": [
    "import numpy as np\n",
    "import pandas as pd\n",
    "\n",
    "import seaborn as sns\n",
    "import numpy as np\n",
    "from matplotlib import pyplot as plt\n",
    "from scipy import ndimage"
   ]
  },
  {
   "cell_type": "code",
   "execution_count": 2,
   "metadata": {},
   "outputs": [],
   "source": [
    "import random\n",
    "\n",
    "\n",
    "def calc_value(probability, ev):\n",
    "    value = ev / probability\n",
    "    return value\n",
    "\n",
    "\n",
    "def get_result(probability):\n",
    "    return 1 if random.random() < probability else 0\n",
    "\n",
    "\n",
    "def gamble_machine(input_value, probability, FIXED_EV):\n",
    "    if get_result(probability):\n",
    "        return input_value * calc_value(probability, FIXED_EV)\n",
    "    else:\n",
    "        return 0\n",
    "\n",
    "\n",
    "def do_test(samples, probability, ev, n):\n",
    "    test_samples = samples.copy()\n",
    "    for person, initial_money in test_samples.items():\n",
    "        input_value = initial_money / n\n",
    "        for _ in range(n):\n",
    "            output_value = gamble_machine(input_value, probability, ev)\n",
    "            initial_money -= input_value\n",
    "            initial_money += output_value\n",
    "\n",
    "        test_samples[person] = initial_money\n",
    "    return test_samples\n",
    "\n",
    "\n",
    "def calc_win_ratio(samples, initial_money):\n",
    "    winners = sum(value >= initial_money for value in samples.values())\n",
    "    totals = len(samples)\n",
    "    return winners / totals"
   ]
  },
  {
   "cell_type": "code",
   "execution_count": 3,
   "metadata": {},
   "outputs": [],
   "source": [
    "initial_money = 10000\n",
    "samples = {idx: initial_money for idx in range(1, 1001)}"
   ]
  },
  {
   "cell_type": "code",
   "execution_count": 4,
   "metadata": {},
   "outputs": [
    {
     "ename": "NameError",
     "evalue": "name 'ev' is not defined",
     "output_type": "error",
     "traceback": [
      "\u001b[0;31m---------------------------------------------------------------------------\u001b[0m",
      "\u001b[0;31mNameError\u001b[0m                                 Traceback (most recent call last)",
      "Cell \u001b[0;32mIn[4], line 7\u001b[0m\n\u001b[1;32m      5\u001b[0m result_dict \u001b[38;5;241m=\u001b[39m \u001b[38;5;28mdict\u001b[39m()\n\u001b[1;32m      6\u001b[0m \u001b[38;5;28;01mfor\u001b[39;00m n \u001b[38;5;129;01min\u001b[39;00m \u001b[38;5;28mrange\u001b[39m(\u001b[38;5;241m1\u001b[39m, \u001b[38;5;241m100\u001b[39m \u001b[38;5;241m+\u001b[39m \u001b[38;5;241m1\u001b[39m):\n\u001b[0;32m----> 7\u001b[0m     tested_samples \u001b[38;5;241m=\u001b[39m do_test(samples\u001b[38;5;241m=\u001b[39msamples, probability\u001b[38;5;241m=\u001b[39mp, ev\u001b[38;5;241m=\u001b[39m\u001b[43mev\u001b[49m, n\u001b[38;5;241m=\u001b[39mn)\n\u001b[1;32m      8\u001b[0m     result_dict[n] \u001b[38;5;241m=\u001b[39m calc_win_ratio(tested_samples, initial_money)\n\u001b[1;32m     10\u001b[0m plt\u001b[38;5;241m.\u001b[39mtitle(\u001b[38;5;124mf\u001b[39m\u001b[38;5;124m\"\u001b[39m\u001b[38;5;124mprobability  : \u001b[39m\u001b[38;5;132;01m{\u001b[39;00mp\u001b[38;5;132;01m}\u001b[39;00m\u001b[38;5;124m\"\u001b[39m)\n",
      "\u001b[0;31mNameError\u001b[0m: name 'ev' is not defined"
     ]
    },
    {
     "data": {
      "image/png": "[encoded data removed]",
      "text/plain": [
       "<Figure size 1300x600 with 1 Axes>"
      ]
     },
     "metadata": {},
     "output_type": "display_data"
    }
   ],
   "source": [
    "plt.figure(figsize=(13, 6))\n",
    "for idx, p in enumerate([0.1, 0.2, 0.4, 0.5]):\n",
    "    plt.subplot(2, 2, idx + 1)\n",
    "\n",
    "    result_dict = dict()\n",
    "    for n in range(1, 100 + 1):\n",
    "        tested_samples = do_test(samples=samples, probability=p, ev=ev, n=n)\n",
    "        result_dict[n] = calc_win_ratio(tested_samples, initial_money)\n",
    "\n",
    "    plt.title(f\"probability  : {p}\")\n",
    "    plt.scatter(result_dict.keys(), result_dict.values())\n",
    "    plt.plot(result_dict.keys(), result_dict.values())\n",
    "    plt.ylim([0, 1])\n",
    "    plt.axhline(0.5, c=\"r\")\n",
    "plt.tight_layout()\n",
    "plt.show()"
   ]
  },
  {
   "cell_type": "code",
   "execution_count": null,
   "metadata": {},
   "outputs": [],
   "source": []
  }
 ],
 "metadata": {
  "kernelspec": {
   "display_name": "quant_trading",
   "language": "python",
   "name": "python3"
  },
  "language_info": {
   "codemirror_mode": {
    "name": "ipython",
    "version": 3
   },
   "file_extension": ".py",
   "mimetype": "text/x-python",
   "name": "python",
   "nbconvert_exporter": "python",
   "pygments_lexer": "ipython3",
   "version": "3.10.13"
  }
 },
 "nbformat": 4,
 "nbformat_minor": 2
}
