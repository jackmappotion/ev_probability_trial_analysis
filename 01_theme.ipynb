{
 "cells": [
  {
   "cell_type": "code",
   "execution_count": 1,
   "metadata": {},
   "outputs": [
    {
     "name": "stdout",
     "output_type": "stream",
     "text": [
      "\n",
      "기댓값과 확률에 따른 '적절한' 시행횟수에 대한 계산\n",
      "기댓값 : (value * possibility)\n",
      "\n",
      "일반적으로 기댓값이 1 이상인 사건은 진행을 하는 것이 좋다.\n",
      "    기댓값이 1 이상인 사건의 예시\n",
      "        : 승리 확률이 2/3 인데 베팅금액의 2배를 제공하는 게임\n",
      "            (EV : 4/3)\n",
      "\n",
      "    그렇다면 확률이 작아지는 상황에서는 어떠한가?\n",
      "        : 승리 확률이 1/100 인데 배팅금액의 101배를 제공하는 게임\n",
      "            (EV : 101/100)\n",
      "        -> 진행하는 것이 EV를 볼때는 맞지만 상식적으로 이 게임에 전재산을 걸고싶지는 않다.\n",
      "        그렇다면 이때 우리에게 n회의 시행횟수가 보장된다면 이 게임을 할 수 있을까?\n",
      "        그 n은 몇일까\n",
      "\n"
     ]
    }
   ],
   "source": [
    "print(\n",
    "\"\"\"\n",
    "기댓값과 확률에 따른 '적절한' 시행횟수에 대한 계산\n",
    "기댓값 : (value * possibility)\n",
    "\n",
    "일반적으로 기댓값이 1 이상인 사건은 진행을 하는 것이 좋다.\n",
    "    기댓값이 1 이상인 사건의 예시\n",
    "        : 승리 확률이 2/3 인데 베팅금액의 2배를 제공하는 게임\n",
    "            (EV : 4/3)\n",
    "\n",
    "    그렇다면 확률이 작아지는 상황에서는 어떠한가?\n",
    "        : 승리 확률이 1/100 인데 배팅금액의 101배를 제공하는 게임\n",
    "            (EV : 101/100)\n",
    "        -> 진행하는 것이 EV를 볼때는 맞지만 상식적으로 이 게임에 전재산을 걸고싶지는 않다.\n",
    "        그렇다면 이때 우리에게 n회의 시행횟수가 보장된다면 이 게임을 할 수 있을까?\n",
    "        그 n은 몇일까\n",
    "\"\"\"\n",
    ")"
   ]
  },
  {
   "cell_type": "code",
   "execution_count": 2,
   "metadata": {},
   "outputs": [],
   "source": [
    "from typing import Optional\n",
    "적절한_최소시행횟수 = Optional[int]\n",
    "\n",
    "\n",
    "def calc_적절한_최소시행횟수(기댓값, 확률, 승리확률=0.5):\n",
    "    ...\n",
    "    return 적절한_최소시행횟수"
   ]
  },
  {
   "cell_type": "code",
   "execution_count": 3,
   "metadata": {},
   "outputs": [
    {
     "data": {
      "text/plain": [
       "(2.2, 110.0)"
      ]
     },
     "execution_count": 3,
     "metadata": {},
     "output_type": "execute_result"
    }
   ],
   "source": [
    "def get_calc_value(ev):\n",
    "    def calc_value(p):\n",
    "        value = ev / p\n",
    "        return value\n",
    "\n",
    "    return calc_value\n",
    "\n",
    "\n",
    "calc_value = get_calc_value(1.1)\n",
    "calc_value(0.5), calc_value(0.01)"
   ]
  },
  {
   "cell_type": "code",
   "execution_count": 4,
   "metadata": {},
   "outputs": [
    {
     "data": {
      "text/plain": [
       "(2.2, 110.0)"
      ]
     },
     "execution_count": 4,
     "metadata": {},
     "output_type": "execute_result"
    }
   ],
   "source": [
    "get_calc_value = lambda ev: lambda prob: ev / prob\n",
    "\n",
    "\n",
    "calc_value = get_calc_value(1.1)\n",
    "calc_value(0.5), calc_value(0.01)"
   ]
  },
  {
   "cell_type": "code",
   "execution_count": null,
   "metadata": {},
   "outputs": [],
   "source": []
  }
 ],
 "metadata": {
  "kernelspec": {
   "display_name": "quant_trading",
   "language": "python",
   "name": "python3"
  },
  "language_info": {
   "codemirror_mode": {
    "name": "ipython",
    "version": 3
   },
   "file_extension": ".py",
   "mimetype": "text/x-python",
   "name": "python",
   "nbconvert_exporter": "python",
   "pygments_lexer": "ipython3",
   "version": "3.10.13"
  }
 },
 "nbformat": 4,
 "nbformat_minor": 2
}
